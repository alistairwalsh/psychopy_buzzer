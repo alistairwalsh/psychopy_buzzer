{
 "cells": [
  {
   "cell_type": "markdown",
   "metadata": {},
   "source": [
    "1. participant feels an interval demarcated by two buzzes (the duration would be picked randomly from a matrix of durations, ex. 200-800ms). \n",
    "\n",
    "2. The participant would then press the keyboard twice to mark how long the interval was. \n",
    "\n",
    "If possible, I would like to to do manipulation where in (2), the participant gets a buzz as a feedback every time they press the keyboard to see how this affects their performance. \n",
    "\n",
    "The trials would be independent of the participant responses.\n",
    "\n",
    "I am using the DRV2605 chip for communicating with the motor. I can email you code etc if that would help. Thanks! ﻿"
   ]
  },
  {
   "cell_type": "code",
   "execution_count": 27,
   "metadata": {
    "collapsed": true
   },
   "outputs": [],
   "source": [
    "import serial\n",
    "import time\n",
    "import random\n",
    "\n",
    "port = 'COM3'"
   ]
  },
  {
   "cell_type": "code",
   "execution_count": 25,
   "metadata": {
    "collapsed": false
   },
   "outputs": [
    {
     "name": "stdout",
     "output_type": "stream",
     "text": [
      "[400, 700, 300, 400, 700, 500, 800, 700, 500, 600]\n"
     ]
    }
   ],
   "source": [
    "durations = []\n",
    "\n",
    "for time in range(10):\n",
    "    durations.append(random.randint(2, 8) * 100)\n",
    "\n",
    "print(durations)\n"
   ]
  },
  {
   "cell_type": "code",
   "execution_count": null,
   "metadata": {
    "collapsed": true
   },
   "outputs": [],
   "source": [
    "\n",
    "with serial.Serial(port) as ser:\n",
    "    ser.write(b'1')\n",
    "    time.sleep(durations.pop())\n",
    "    ser.write(b'1')\n"
   ]
  }
 ],
 "metadata": {
  "anaconda-cloud": {},
  "kernelspec": {
   "display_name": "Python [default]",
   "language": "python",
   "name": "python3"
  },
  "language_info": {
   "codemirror_mode": {
    "name": "ipython",
    "version": 3
   },
   "file_extension": ".py",
   "mimetype": "text/x-python",
   "name": "python",
   "nbconvert_exporter": "python",
   "pygments_lexer": "ipython3",
   "version": "3.5.2"
  }
 },
 "nbformat": 4,
 "nbformat_minor": 1
}
